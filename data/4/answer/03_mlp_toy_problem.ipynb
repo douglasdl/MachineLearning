{
 "cells": [
  {
   "cell_type": "code",
   "execution_count": null,
   "id": "b14372c7",
   "metadata": {},
   "outputs": [],
   "source": [
    "#1. ライブラリの読み込み \n",
    "import numpy as np\n",
    "from sklearn import datasets\n",
    "from sklearn.utils import shuffle\n",
    "from sklearn.model_selection import train_test_split\n",
    "from sklearn.metrics import accuracy_score\n",
    "import matplotlib.pyplot as plt\n",
    "np.random.seed(123)"
   ]
  },
  {
   "cell_type": "code",
   "execution_count": null,
   "id": "1f661154",
   "metadata": {},
   "outputs": [],
   "source": [
    "#2. 活性化関数\n",
    "def sigmoid(x):\n",
    "    return 1 / (1 + np.exp(-x))\n",
    "\n",
    "# シグモイド関数の微分(誤差逆伝搬用)\n",
    "def dsigmoid(x):\n",
    "    return sigmoid(x) * (1 - sigmoid(x))"
   ]
  },
  {
   "cell_type": "code",
   "execution_count": null,
   "id": "268d2448",
   "metadata": {},
   "outputs": [],
   "source": [
    "#3. 単純パーセプトロン\n",
    "class Layer(object):\n",
    "    def __init__(self, input_dim, output_dim,\n",
    "                 activation, dactivation):\n",
    "        self.w = np.random.normal(size=(input_dim, output_dim))\n",
    "        self.b = np.zeros(output_dim)\n",
    "        self.activation = activation\n",
    "        self.dactivation = dactivation\n",
    "\n",
    "    def __call__(self, x):\n",
    "        return self.forward(x)\n",
    "\n",
    "    def forward(self, x):\n",
    "        self._input = x\n",
    "        self._pre_activation = np.matmul(x, self.w) + self.b\n",
    "        return self.activation(self._pre_activation)\n",
    "\n",
    "    def backward(self, delta, W):\n",
    "        delta = self.dactivation(self._pre_activation) \\\n",
    "                * np.matmul(delta, W.T)\n",
    "        return delta\n",
    "\n",
    "    def compute_gradients(self, delta):\n",
    "        dW = np.matmul(self._input.T, delta)\n",
    "        db = np.matmul(np.ones(self._input.shape[0]), delta)\n",
    "\n",
    "        return dW, db"
   ]
  },
  {
   "cell_type": "code",
   "execution_count": null,
   "id": "d62be73f",
   "metadata": {},
   "outputs": [],
   "source": [
    "#4. 多層パーセプロン\n",
    "class MLP(object):\n",
    "    def __init__(self, input_dim, hidden_dim, output_dim):\n",
    "        self.l1 = Layer(input_dim=input_dim,\n",
    "                        output_dim=hidden_dim,\n",
    "                        activation=sigmoid,\n",
    "                        dactivation=dsigmoid)\n",
    "\n",
    "        self.l2 = Layer(input_dim=hidden_dim,\n",
    "                        output_dim=output_dim,\n",
    "                        activation=sigmoid,\n",
    "                        dactivation=dsigmoid)\n",
    "\n",
    "        self.layers = [self.l1, self.l2]\n",
    "\n",
    "    def __call__(self, x):\n",
    "        return self.forward(x)\n",
    "\n",
    "    def forward(self, x):\n",
    "        h = self.l1(x)\n",
    "        y = self.l2(h)\n",
    "        return y\n"
   ]
  },
  {
   "cell_type": "code",
   "execution_count": null,
   "id": "b29aa670",
   "metadata": {},
   "outputs": [],
   "source": [
    "#5. データの準備\n",
    "N = 300\n",
    "x, t = datasets.make_moons(N, noise=0.3)\n",
    "t = t.reshape(N, 1)\n",
    "x_train, x_test, t_train, t_test = \\\n",
    "        train_test_split(x, t, test_size=0.2)"
   ]
  },
  {
   "cell_type": "code",
   "execution_count": null,
   "id": "ab8278bc",
   "metadata": {},
   "outputs": [],
   "source": [
    "# 6.データの表示\n",
    "x1 = []\n",
    "x2 = []\n",
    "for i in range(len(x)):\n",
    "    if t[i] > 0.5:\n",
    "        x1.append(x[i])\n",
    "    else:\n",
    "        x2.append(x[i])\n",
    "x1 = np.array(x1)\n",
    "x2 = np.array(x2)\n",
    "plt.scatter(x1[:,0],x1[:,1],color=\"red\")\n",
    "plt.scatter(x2[:,0],x2[:,1],color=\"blue\")"
   ]
  },
  {
   "cell_type": "code",
   "execution_count": null,
   "id": "9b1b5219",
   "metadata": {},
   "outputs": [],
   "source": [
    "#7. モデルの構築\n",
    "model = MLP(2, 3, 1)"
   ]
  },
  {
   "cell_type": "code",
   "execution_count": null,
   "id": "4e3cd96d",
   "metadata": {},
   "outputs": [],
   "source": [
    "#8. モデルの学習\n",
    "def compute_loss(t, y):\n",
    "    return (-t * np.log(y) - (1 - t) * np.log(1 - y)).sum()\n",
    "\n",
    "def train_step(x, t):\n",
    "    y = model(x)\n",
    "    for i, layer in enumerate(model.layers[::-1]):\n",
    "        if i == 0:\n",
    "            delta = y - t\n",
    "        else:\n",
    "            delta = layer.backward(delta, W)\n",
    "        dW, db = layer.compute_gradients(delta)\n",
    "        layer.w = layer.w - 0.1 * dW\n",
    "        layer.b = layer.b - 0.1 * db\n",
    "\n",
    "        W = layer.w\n",
    "\n",
    "    loss = compute_loss(t, y)\n",
    "    return loss"
   ]
  },
  {
   "cell_type": "code",
   "execution_count": null,
   "id": "76c709d0",
   "metadata": {},
   "outputs": [],
   "source": [
    "#9. モデルの学習\n",
    "epochs = 100\n",
    "batch_size = 30\n",
    "n_batches = x_train.shape[0] // batch_size\n",
    "\n",
    "for epoch in range(epochs):\n",
    "    train_loss = 0.\n",
    "    x_, t_ = shuffle(x_train, t_train)\n",
    "\n",
    "    for n_batch in range(n_batches):\n",
    "        start = n_batch * batch_size\n",
    "        end = start + batch_size\n",
    "\n",
    "        train_loss += train_step(x_[start:end],\n",
    "                                 t_[start:end])\n",
    "\n",
    "    if epoch % 10 == 0 or epoch == epochs - 1:\n",
    "        print('epoch: {}, loss: {:.3f}'.format(\n",
    "            epoch+1,\n",
    "            train_loss\n",
    "        ))"
   ]
  },
  {
   "cell_type": "code",
   "execution_count": null,
   "id": "666f038d",
   "metadata": {},
   "outputs": [],
   "source": [
    "#10. モデルの評価\n",
    "preds = model(x_test) > 0.5\n",
    "acc = accuracy_score(t_test, preds)\n",
    "print('acc.: {:.3f}'.format(acc))"
   ]
  },
  {
   "cell_type": "code",
   "execution_count": null,
   "id": "0b25488b",
   "metadata": {},
   "outputs": [],
   "source": [
    "#11.データを表示する\n",
    "d = []\n",
    "for i in range(100):\n",
    "    for j in range(100):\n",
    "        d.append([-1.5+0.04*i,-1+0.04*j])\n",
    "d = np.array(d)\n",
    "preds = model(d) > 0.5\n",
    "d1 = []\n",
    "d2 = []\n",
    "for i in range(len(d)):\n",
    "    if preds[i]:\n",
    "        d1.append(d[i])\n",
    "    else:\n",
    "        d2.append(d[i])\n",
    "    \n",
    "d1 = np.array(d1)\n",
    "d2 = np.array(d2)\n",
    "\n",
    "d3 = []\n",
    "d4 = []\n",
    "for i in range(len(x_test)):\n",
    "    if t_test[i] > 0.5:\n",
    "        d3.append(x_test[i])\n",
    "    else:\n",
    "        d4.append(x_test[i])\n",
    "\n",
    "d3 = np.array(d3)\n",
    "d4 = np.array(d4)\n",
    "\n",
    "fig = plt.figure()\n",
    "plt.scatter(d1[:,0],d1[:,1],color=\"lightpink\")\n",
    "plt.scatter(d2[:,0],d2[:,1],color=\"cyan\")\n",
    "plt.scatter(d3[:,0],d3[:,1],color=\"red\")\n",
    "plt.scatter(d4[:,0],d4[:,1],color=\"blue\")\n",
    "plt.show()"
   ]
  },
  {
   "cell_type": "code",
   "execution_count": null,
   "id": "f1d2e194",
   "metadata": {},
   "outputs": [],
   "source": []
  }
 ],
 "metadata": {
  "kernelspec": {
   "display_name": "Python 3 (ipykernel)",
   "language": "python",
   "name": "python3"
  },
  "language_info": {
   "codemirror_mode": {
    "name": "ipython",
    "version": 3
   },
   "file_extension": ".py",
   "mimetype": "text/x-python",
   "name": "python",
   "nbconvert_exporter": "python",
   "pygments_lexer": "ipython3",
   "version": "3.10.13"
  }
 },
 "nbformat": 4,
 "nbformat_minor": 5
}
