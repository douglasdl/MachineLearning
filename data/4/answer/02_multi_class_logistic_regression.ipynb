{
 "cells": [
  {
   "cell_type": "code",
   "execution_count": null,
   "id": "b14372c7",
   "metadata": {},
   "outputs": [],
   "source": [
    "#1. ライブラリの読み込み \n",
    "import numpy as np\n",
    "import matplotlib.pyplot as plt\n",
    "from sklearn.utils import shuffle\n",
    "#from sklearn import datasets\n",
    "#from sklearn.model_selection import train_test_split\n",
    "#from sklearn.metrics import accuracy_score\n",
    "np.random.seed(123)"
   ]
  },
  {
   "cell_type": "code",
   "execution_count": null,
   "id": "1f661154",
   "metadata": {},
   "outputs": [],
   "source": [
    "#2. 活性化関数\n",
    "def sigmoid(x):\n",
    "    return 1 / (1 + np.exp(-x))\n",
    "\n",
    "# シグモイド関数の微分(誤差逆伝搬用)\n",
    "def dsigmoid(x):\n",
    "    return sigmoid(x) * (1 - sigmoid(x))"
   ]
  },
  {
   "cell_type": "code",
   "execution_count": null,
   "id": "268d2448",
   "metadata": {},
   "outputs": [],
   "source": [
    "#3. 単純パーセプトロン\n",
    "class Layer(object):\n",
    "    def __init__(self, input_dim, output_dim,\n",
    "                 activation, dactivation):\n",
    "        self.w = np.random.normal(size=(input_dim, output_dim))\n",
    "        self.b = np.zeros(output_dim)\n",
    "        self.activation = activation\n",
    "        self.dactivation = dactivation\n",
    "\n",
    "    def __call__(self, x):\n",
    "        return self.forward(x)\n",
    "\n",
    "    def forward(self, x):\n",
    "        self._input = x\n",
    "        self._pre_activation = np.matmul(x, self.w) + self.b\n",
    "        return self.activation(self._pre_activation)\n",
    "\n",
    "    def backward(self, delta, W):\n",
    "        delta = self.dactivation(self._pre_activation) \\\n",
    "                * np.matmul(delta, W.T)\n",
    "        return delta\n",
    "\n",
    "    def compute_gradients(self, delta):\n",
    "        dW = np.matmul(self._input.T, delta)\n",
    "        db = np.matmul(np.ones(self._input.shape[0]), delta)\n",
    "\n",
    "        return dW, db"
   ]
  },
  {
   "cell_type": "code",
   "execution_count": null,
   "id": "b29aa670",
   "metadata": {},
   "outputs": [],
   "source": [
    "#4. データの準備\n",
    "M = 2      # 入力データの次元\n",
    "K = 3      # クラス数\n",
    "n = 100    # クラスごとのデータ数\n",
    "N = n * K  # 全データ数\n",
    "\n",
    "x1 = np.random.randn(n, M) + np.array([0, 10])\n",
    "x2 = np.random.randn(n, M) + np.array([5, 5])\n",
    "x3 = np.random.randn(n, M) + np.array([10, 0])\n",
    "t1 = np.array([[1, 0, 0] for i in range(n)])\n",
    "t2 = np.array([[0, 1, 0] for i in range(n)])\n",
    "t3 = np.array([[0, 0, 1] for i in range(n)])\n",
    "\n",
    "x = np.concatenate((x1, x2, x3), axis=0)\n",
    "t = np.concatenate((t1, t2, t3), axis=0)"
   ]
  },
  {
   "cell_type": "code",
   "execution_count": null,
   "id": "ab8278bc",
   "metadata": {},
   "outputs": [],
   "source": [
    "#5. データの表示\n",
    "plt.scatter(x1[:,0],x1[:,1],color=\"red\")\n",
    "plt.scatter(x2[:,0],x2[:,1],color=\"yellow\")\n",
    "plt.scatter(x3[:,0],x3[:,1],color=\"green\")\n",
    "plt.show()"
   ]
  },
  {
   "cell_type": "code",
   "execution_count": null,
   "id": "9b1b5219",
   "metadata": {},
   "outputs": [],
   "source": [
    "model = Layer(2, 3, activation=sigmoid,dactivation=dsigmoid)"
   ]
  },
  {
   "cell_type": "code",
   "execution_count": null,
   "id": "4e3cd96d",
   "metadata": {},
   "outputs": [],
   "source": [
    "#6. モデルの学習\n",
    "def compute_loss(t, y):\n",
    "    return (-t * np.log(y) - (1 - t) * np.log(1 - y)).sum()\n",
    "\n",
    "def train_step(x, t):\n",
    "    y = model(x)\n",
    "    delta = y - t\n",
    "    dW, db = model.compute_gradients(delta)\n",
    "    model.w = model.w - 0.1 * dW\n",
    "    model.b = model.b - 0.1 * db\n",
    "    loss = compute_loss(t, model(x))\n",
    "    return loss"
   ]
  },
  {
   "cell_type": "code",
   "execution_count": null,
   "id": "76c709d0",
   "metadata": {},
   "outputs": [],
   "source": [
    "#7. モデルの学習\n",
    "epochs = 300\n",
    "batch_size = 1\n",
    "n_batches = x.shape[0] // batch_size\n",
    "\n",
    "for epoch in range(epochs):\n",
    "    train_loss = 0.\n",
    "    x_, t_ = shuffle(x, t)\n",
    "\n",
    "    for n_batch in range(n_batches):\n",
    "        start = n_batch * batch_size\n",
    "        end = start + batch_size\n",
    "\n",
    "        train_loss += train_step(x_[start:end],\n",
    "                                 t_[start:end])\n",
    "\n",
    "    if epoch % 10 == 0 or epoch == epochs - 1:\n",
    "        print('epoch: {}, loss: {:.3f}'.format(\n",
    "            epoch+1,\n",
    "            train_loss\n",
    "        ))"
   ]
  },
  {
   "cell_type": "code",
   "execution_count": null,
   "id": "0b25488b",
   "metadata": {},
   "outputs": [],
   "source": [
    "#8.結果とニューロンの状態を表示する\n",
    "rx = np.array([-2,12])\n",
    "ry = np.array([[0,0],[0,0]])\n",
    "for i in range(rx.size):\n",
    "    ry[0][i] = ((model.w[0][2] - model.w[0][1])*rx[i] + model.b[2] - model.b[1]) / (model.w[1][1] - model.w[1][2])\n",
    "    ry[1][i] = ((model.w[0][0] - model.w[0][1])*rx[i] + model.b[0] - model.b[1]) / (model.w[1][1] - model.w[1][0])\n",
    "plt.scatter(x1[:,0],x1[:,1],color=\"red\")\n",
    "plt.scatter(x2[:,0],x2[:,1],color=\"yellow\")\n",
    "plt.scatter(x3[:,0],x3[:,1],color=\"green\")\n",
    "plt.plot(rx,ry[0],color=\"blue\")\n",
    "plt.plot(rx,ry[1],color=\"blue\")\n",
    "plt.ylim(-5,15)\n",
    "plt.show()"
   ]
  },
  {
   "cell_type": "code",
   "execution_count": null,
   "id": "f1d2e194",
   "metadata": {},
   "outputs": [],
   "source": []
  }
 ],
 "metadata": {
  "kernelspec": {
   "display_name": "Python 3 (ipykernel)",
   "language": "python",
   "name": "python3"
  },
  "language_info": {
   "codemirror_mode": {
    "name": "ipython",
    "version": 3
   },
   "file_extension": ".py",
   "mimetype": "text/x-python",
   "name": "python",
   "nbconvert_exporter": "python",
   "pygments_lexer": "ipython3",
   "version": "3.10.13"
  }
 },
 "nbformat": 4,
 "nbformat_minor": 5
}
