{
 "cells": [
  {
   "cell_type": "code",
   "execution_count": null,
   "id": "b34c2a42",
   "metadata": {},
   "outputs": [],
   "source": [
    "import pandas as pd\n",
    "import matplotlib.pyplot as plt"
   ]
  },
  {
   "cell_type": "code",
   "execution_count": null,
   "id": "32f26235",
   "metadata": {},
   "outputs": [],
   "source": [
    "data = pd.read_csv('./2022-0426-17.csv')\n",
    "data"
   ]
  },
  {
   "cell_type": "code",
   "execution_count": null,
   "id": "d52faa0f",
   "metadata": {},
   "outputs": [],
   "source": [
    "data[\"a\"] = data.x**2+data.y**2+data.z**2\n",
    "data.a = data.a ** 0.5\n",
    "data[\"t\"]= pd.RangeIndex(1,len(data) +1, step=1)\n",
    "data"
   ]
  },
  {
   "cell_type": "code",
   "execution_count": null,
   "id": "51edf2c9",
   "metadata": {},
   "outputs": [],
   "source": [
    "plt.plot(data.t,data.x,color=\"blue\")\n",
    "plt.plot(data.t,data.y,color=\"red\")\n",
    "plt.plot(data.t,data.z,color=\"green\")\n",
    "plt.show()"
   ]
  },
  {
   "cell_type": "code",
   "execution_count": null,
   "id": "6f1e57af",
   "metadata": {},
   "outputs": [],
   "source": [
    "plt.plot(data.t,data.a,color=\"black\")\n",
    "plt.show()"
   ]
  },
  {
   "cell_type": "code",
   "execution_count": null,
   "id": "35b8240b",
   "metadata": {},
   "outputs": [],
   "source": [
    "data.a.describe()"
   ]
  },
  {
   "cell_type": "code",
   "execution_count": null,
   "id": "117e5f9f",
   "metadata": {},
   "outputs": [],
   "source": [
    "data.a.hist()"
   ]
  },
  {
   "cell_type": "code",
   "execution_count": null,
   "id": "1ff42855",
   "metadata": {},
   "outputs": [],
   "source": [
    "data.a.hist(range=(0.95,1.1),bins=50)"
   ]
  },
  {
   "cell_type": "markdown",
   "id": "a2ba7783",
   "metadata": {},
   "source": []
  }
 ],
 "metadata": {
  "kernelspec": {
   "display_name": "Python 3 (ipykernel)",
   "language": "python",
   "name": "python3"
  },
  "language_info": {
   "codemirror_mode": {
    "name": "ipython",
    "version": 3
   },
   "file_extension": ".py",
   "mimetype": "text/x-python",
   "name": "python",
   "nbconvert_exporter": "python",
   "pygments_lexer": "ipython3",
   "version": "3.10.13"
  }
 },
 "nbformat": 4,
 "nbformat_minor": 5
}
