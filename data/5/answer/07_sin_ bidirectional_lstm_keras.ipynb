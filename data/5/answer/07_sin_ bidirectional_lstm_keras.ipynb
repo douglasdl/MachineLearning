{
 "cells": [
  {
   "cell_type": "code",
   "execution_count": null,
   "id": "56d99296",
   "metadata": {},
   "outputs": [],
   "source": [
    "# ライブラリの読み込み\n",
    "import numpy as np\n",
    "import matplotlib.pyplot as plt\n",
    "from sklearn.model_selection import train_test_split\n",
    "import tensorflow as tf\n",
    "from tensorflow.keras import datasets\n",
    "from tensorflow.keras.models import Sequential\n",
    "from tensorflow.keras.layers import Dense,Bidirectional, LSTM\n",
    "from tensorflow.keras import optimizers\n",
    "from tensorflow.keras.callbacks import EarlyStopping\n",
    "\n",
    "np.random.seed(123)\n",
    "tf.random.set_seed(123)"
   ]
  },
  {
   "cell_type": "code",
   "execution_count": null,
   "id": "096d8ef2",
   "metadata": {},
   "outputs": [],
   "source": [
    "# データを作成する\n",
    "def sin(x, T=100):\n",
    "    return np.sin(2.0 * np.pi * x / T)\n",
    "\n",
    "def toy_problem(T=100, ampl=0.05):\n",
    "    x = np.arange(0, 2*T + 1)\n",
    "    noise = ampl * np.random.uniform(low=-1.0, high=1.0, size=len(x))\n",
    "    return sin(x) + noise\n",
    "\n",
    "T = 100\n",
    "f = toy_problem(T).astype(np.float32)\n",
    "length_of_sequences = len(f)"
   ]
  },
  {
   "cell_type": "code",
   "execution_count": null,
   "id": "a2bb09b7",
   "metadata": {},
   "outputs": [],
   "source": [
    "# データの確認\n",
    "plt.plot(range(length_of_sequences), f)\n",
    "plt.show()"
   ]
  },
  {
   "cell_type": "code",
   "execution_count": null,
   "id": "f9375736",
   "metadata": {},
   "outputs": [],
   "source": [
    "# 教師データと評価データを作成\n",
    "maxlen = 25\n",
    "\n",
    "x = []\n",
    "t = []\n",
    "\n",
    "for i in range(length_of_sequences - maxlen):\n",
    "    x.append(f[i:i+maxlen])\n",
    "    t.append(f[i+maxlen])\n",
    "\n",
    "x = np.array(x).reshape(-1, maxlen, 1)\n",
    "t = np.array(t).reshape(-1, 1)\n",
    "\n",
    "x_train, x_val, t_train, t_val = train_test_split(x, t, test_size=0.2, shuffle=True)"
   ]
  },
  {
   "cell_type": "code",
   "execution_count": null,
   "id": "cdd2b294",
   "metadata": {},
   "outputs": [],
   "source": [
    "# モデルの構築\n",
    "model = Sequential()\n",
    "model.add(Bidirectional(LSTM(50, activation='tanh',\n",
    "               recurrent_activation='sigmoid',\n",
    "               kernel_initializer='glorot_normal',\n",
    "               recurrent_initializer='orthogonal')))\n",
    "model.add(Dense(1, activation='linear'))\n",
    "optimizer = optimizers.Adam(learning_rate=0.001,\n",
    "                                beta_1=0.9, beta_2=0.999, amsgrad=True)\n",
    "\n",
    "model.compile(optimizer=optimizer,\n",
    "                  loss='mean_squared_error')"
   ]
  },
  {
   "cell_type": "code",
   "execution_count": null,
   "id": "5ec2982d",
   "metadata": {},
   "outputs": [],
   "source": [
    "#学習\n",
    "es = EarlyStopping(monitor='val_loss',\n",
    "                       patience=10,\n",
    "                       mode=\"auto\")\n",
    "hist = model.fit(x_train, t_train,\n",
    "                     epochs=1000, batch_size=100,\n",
    "                     verbose=2,\n",
    "                     validation_data=(x_val, t_val),\n",
    "                     callbacks=[es])"
   ]
  },
  {
   "cell_type": "code",
   "execution_count": null,
   "id": "0b9b4cf0",
   "metadata": {},
   "outputs": [],
   "source": [
    "# モデルの評価\n",
    "sin = toy_problem(T, ampl=0.)\n",
    "gen = [None for i in range(maxlen)]\n",
    "\n",
    "z = x[:1]\n",
    "\n",
    "# 逐次的に予測値を求める\n",
    "for i in range(length_of_sequences - maxlen):\n",
    "    preds = model.predict(z[-1:])\n",
    "    z = np.append(z, preds)[1:]\n",
    "    z = z.reshape(-1, maxlen, 1)\n",
    "    gen.append(preds[0, 0])\n",
    "\n",
    "# 予測値を可視化\n",
    "plt.rc('font', family='serif')\n",
    "plt.xlim([0, 2*T])\n",
    "plt.ylim([-1.5, 1.5])\n",
    "plt.plot(range(len(f)), sin,\n",
    "         color='gray',\n",
    "         linestyle='--', linewidth=0.5)\n",
    "plt.plot(range(len(f)), gen,\n",
    "         color='black', linewidth=1,\n",
    "         marker='o', markersize=1, markerfacecolor='black',\n",
    "         markeredgecolor='black')\n",
    "plt.show()"
   ]
  },
  {
   "cell_type": "code",
   "execution_count": null,
   "id": "b367aa07",
   "metadata": {},
   "outputs": [],
   "source": []
  }
 ],
 "metadata": {
  "kernelspec": {
   "display_name": "Python 3 (ipykernel)",
   "language": "python",
   "name": "python3"
  },
  "language_info": {
   "codemirror_mode": {
    "name": "ipython",
    "version": 3
   },
   "file_extension": ".py",
   "mimetype": "text/x-python",
   "name": "python",
   "nbconvert_exporter": "python",
   "pygments_lexer": "ipython3",
   "version": "3.10.13"
  }
 },
 "nbformat": 4,
 "nbformat_minor": 5
}
